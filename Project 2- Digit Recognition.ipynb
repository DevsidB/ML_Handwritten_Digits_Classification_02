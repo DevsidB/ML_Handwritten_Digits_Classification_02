{
 "cells": [
  {
   "cell_type": "code",
   "execution_count": 1,
   "id": "0ec37d15",
   "metadata": {},
   "outputs": [],
   "source": [
    "from sklearn.datasets import fetch_openml"
   ]
  },
  {
   "cell_type": "code",
   "execution_count": 2,
   "id": "ebfecc73",
   "metadata": {},
   "outputs": [],
   "source": [
    "# mnist = fetch_openml('mnist_784') # loads as pandas DF.\n",
    "mnist = fetch_openml('mnist_784' , as_frame=False) # To load as a numpy array."
   ]
  },
  {
   "cell_type": "code",
   "execution_count": 3,
   "id": "5372df57",
   "metadata": {},
   "outputs": [],
   "source": [
    "# mnist # to fetch info about this dataset - mnist_784"
   ]
  },
  {
   "cell_type": "code",
   "execution_count": 4,
   "id": "63787032",
   "metadata": {},
   "outputs": [],
   "source": [
    "x,y = mnist['data'],mnist['target'] #assigning variables to features and labels"
   ]
  },
  {
   "cell_type": "code",
   "execution_count": 5,
   "id": "40161e4c",
   "metadata": {},
   "outputs": [
    {
     "data": {
      "text/plain": [
       "array([[0., 0., 0., ..., 0., 0., 0.],\n",
       "       [0., 0., 0., ..., 0., 0., 0.],\n",
       "       [0., 0., 0., ..., 0., 0., 0.],\n",
       "       ...,\n",
       "       [0., 0., 0., ..., 0., 0., 0.],\n",
       "       [0., 0., 0., ..., 0., 0., 0.],\n",
       "       [0., 0., 0., ..., 0., 0., 0.]])"
      ]
     },
     "execution_count": 5,
     "metadata": {},
     "output_type": "execute_result"
    }
   ],
   "source": [
    "x # x is two dimensional numpy array"
   ]
  },
  {
   "cell_type": "code",
   "execution_count": 6,
   "id": "3c964907",
   "metadata": {},
   "outputs": [
    {
     "data": {
      "text/plain": [
       "array(['5', '0', '4', ..., '4', '5', '6'], dtype=object)"
      ]
     },
     "execution_count": 6,
     "metadata": {},
     "output_type": "execute_result"
    }
   ],
   "source": [
    "y # y is one dimensional numpy array"
   ]
  },
  {
   "cell_type": "code",
   "execution_count": 7,
   "id": "7e735afc",
   "metadata": {},
   "outputs": [],
   "source": [
    "# x[0] # zeroth index of x"
   ]
  },
  {
   "cell_type": "code",
   "execution_count": 8,
   "id": "404b89ac",
   "metadata": {},
   "outputs": [
    {
     "data": {
      "text/plain": [
       "(784,)"
      ]
     },
     "execution_count": 8,
     "metadata": {},
     "output_type": "execute_result"
    }
   ],
   "source": [
    "x[0].shape # (784,) of zeroth index corresponds to the column of x shape which is 784 (70000, 784) "
   ]
  },
  {
   "cell_type": "code",
   "execution_count": 9,
   "id": "e70129bd",
   "metadata": {},
   "outputs": [
    {
     "data": {
      "text/plain": [
       "(70000, 784)"
      ]
     },
     "execution_count": 9,
     "metadata": {},
     "output_type": "execute_result"
    }
   ],
   "source": [
    "x.shape"
   ]
  },
  {
   "cell_type": "code",
   "execution_count": 10,
   "id": "09e03b43",
   "metadata": {},
   "outputs": [
    {
     "data": {
      "text/plain": [
       "(70000,)"
      ]
     },
     "execution_count": 10,
     "metadata": {},
     "output_type": "execute_result"
    }
   ],
   "source": [
    "y.shape"
   ]
  },
  {
   "cell_type": "code",
   "execution_count": 11,
   "id": "711ad078",
   "metadata": {},
   "outputs": [],
   "source": [
    "%matplotlib inline"
   ]
  },
  {
   "cell_type": "code",
   "execution_count": 12,
   "id": "cd207954",
   "metadata": {},
   "outputs": [],
   "source": [
    "import matplotlib\n",
    "import matplotlib.pyplot as plt"
   ]
  },
  {
   "cell_type": "code",
   "execution_count": 13,
   "id": "b276530e",
   "metadata": {},
   "outputs": [],
   "source": [
    "num= 36001"
   ]
  },
  {
   "cell_type": "code",
   "execution_count": 14,
   "id": "3332f035",
   "metadata": {},
   "outputs": [
    {
     "data": {
      "text/plain": [
       "(784,)"
      ]
     },
     "execution_count": 14,
     "metadata": {},
     "output_type": "execute_result"
    }
   ],
   "source": [
    "x[num].shape "
   ]
  },
  {
   "cell_type": "markdown",
   "id": "e703d66e",
   "metadata": {},
   "source": [
    "x[36001] is a 1d array where all the pixels are arranged in a linear form. To be able to display in matrix form we need to reshape in the form rows x columns."
   ]
  },
  {
   "cell_type": "code",
   "execution_count": 15,
   "id": "2f93abdb",
   "metadata": {},
   "outputs": [
    {
     "data": {
      "text/plain": [
       "784"
      ]
     },
     "execution_count": 15,
     "metadata": {},
     "output_type": "execute_result"
    }
   ],
   "source": [
    "28*28"
   ]
  },
  {
   "cell_type": "code",
   "execution_count": 16,
   "id": "5c3490f4",
   "metadata": {},
   "outputs": [],
   "source": [
    "some_digit= x[num]"
   ]
  },
  {
   "cell_type": "code",
   "execution_count": 17,
   "id": "e17ffd78",
   "metadata": {},
   "outputs": [
    {
     "data": {
      "text/plain": [
       "<matplotlib.image.AxesImage at 0x61588be130>"
      ]
     },
     "execution_count": 17,
     "metadata": {},
     "output_type": "execute_result"
    },
    {
     "data": {
      "image/png": "[encoded data removed]",
      "text/plain": [
       "<Figure size 432x288 with 1 Axes>"
      ]
     },
     "metadata": {
      "needs_background": "light"
     },
     "output_type": "display_data"
    }
   ],
   "source": [
    "plt.imshow(some_digit.reshape(49,16)) # see how the image shows if its not distributed in the desired form of row x col"
   ]
  },
  {
   "cell_type": "code",
   "execution_count": 18,
   "id": "dd1766fb",
   "metadata": {},
   "outputs": [],
   "source": [
    "some_digit_image = some_digit.reshape(28,28)"
   ]
  },
  {
   "cell_type": "code",
   "execution_count": 19,
   "id": "f651f6e9",
   "metadata": {},
   "outputs": [],
   "source": [
    "# some_digit_image"
   ]
  },
  {
   "cell_type": "code",
   "execution_count": 20,
   "id": "9c45771e",
   "metadata": {},
   "outputs": [
    {
     "data": {
      "text/plain": [
       "<matplotlib.image.AxesImage at 0x61589a41c0>"
      ]
     },
     "execution_count": 20,
     "metadata": {},
     "output_type": "execute_result"
    },
    {
     "data": {
      "image/png": "[encoded data removed]",
      "text/plain": [
       "<Figure size 432x288 with 1 Axes>"
      ]
     },
     "metadata": {
      "needs_background": "light"
     },
     "output_type": "display_data"
    }
   ],
   "source": [
    "plt.imshow(some_digit_image)"
   ]
  },
  {
   "cell_type": "code",
   "execution_count": 21,
   "id": "0a78b017",
   "metadata": {},
   "outputs": [
    {
     "data": {
      "text/plain": [
       "<matplotlib.image.AxesImage at 0x6158a04d60>"
      ]
     },
     "execution_count": 21,
     "metadata": {},
     "output_type": "execute_result"
    },
    {
     "data": {
      "image/png": "[encoded data removed]",
      "text/plain": [
       "<Figure size 432x288 with 1 Axes>"
      ]
     },
     "metadata": {
      "needs_background": "light"
     },
     "output_type": "display_data"
    }
   ],
   "source": [
    "plt.imshow(some_digit_image,cmap= matplotlib.cm.binary)"
   ]
  },
  {
   "cell_type": "code",
   "execution_count": 22,
   "id": "36f100ec",
   "metadata": {},
   "outputs": [
    {
     "data": {
      "text/plain": [
       "(-0.5, 27.5, 27.5, -0.5)"
      ]
     },
     "execution_count": 22,
     "metadata": {},
     "output_type": "execute_result"
    },
    {
     "data": {
      "image/png": "[encoded data removed]",
      "text/plain": [
       "<Figure size 432x288 with 1 Axes>"
      ]
     },
     "metadata": {
      "needs_background": "light"
     },
     "output_type": "display_data"
    }
   ],
   "source": [
    "plt.imshow(some_digit_image,cmap= matplotlib.cm.binary,interpolation = \"nearest\")\n",
    "plt.axis(\"off\")"
   ]
  },
  {
   "cell_type": "markdown",
   "id": "1b495ddc",
   "metadata": {},
   "source": [
    "__Notice how the rows are stocked vertically starting from top__"
   ]
  },
  {
   "cell_type": "code",
   "execution_count": 23,
   "id": "4553294b",
   "metadata": {},
   "outputs": [
    {
     "data": {
      "text/plain": [
       "'2'"
      ]
     },
     "execution_count": 23,
     "metadata": {},
     "output_type": "execute_result"
    }
   ],
   "source": [
    "y[num]"
   ]
  },
  {
   "cell_type": "code",
   "execution_count": 24,
   "id": "de3c5dfb",
   "metadata": {},
   "outputs": [],
   "source": [
    "train_nums= 60000"
   ]
  },
  {
   "cell_type": "markdown",
   "id": "c447bc3e",
   "metadata": {},
   "source": [
    "__Now splitting Train and Test data__"
   ]
  },
  {
   "cell_type": "code",
   "execution_count": 25,
   "id": "26a845f5",
   "metadata": {},
   "outputs": [],
   "source": [
    "x_train,x_test= x[:train_nums], x[train_nums:]"
   ]
  },
  {
   "cell_type": "code",
   "execution_count": 26,
   "id": "47ac50b0",
   "metadata": {},
   "outputs": [
    {
     "data": {
      "text/plain": [
       "(60000, 784)"
      ]
     },
     "execution_count": 26,
     "metadata": {},
     "output_type": "execute_result"
    }
   ],
   "source": [
    "x_train.shape"
   ]
  },
  {
   "cell_type": "code",
   "execution_count": 27,
   "id": "3b6b97e6",
   "metadata": {},
   "outputs": [
    {
     "data": {
      "text/plain": [
       "(10000, 784)"
      ]
     },
     "execution_count": 27,
     "metadata": {},
     "output_type": "execute_result"
    }
   ],
   "source": [
    "x_test.shape"
   ]
  },
  {
   "cell_type": "code",
   "execution_count": 28,
   "id": "a309c075",
   "metadata": {},
   "outputs": [],
   "source": [
    "y_train,y_test= y[:train_nums], y[train_nums:]"
   ]
  },
  {
   "cell_type": "code",
   "execution_count": 29,
   "id": "cd8637b2",
   "metadata": {},
   "outputs": [
    {
     "data": {
      "text/plain": [
       "(60000,)"
      ]
     },
     "execution_count": 29,
     "metadata": {},
     "output_type": "execute_result"
    }
   ],
   "source": [
    "y_train.shape"
   ]
  },
  {
   "cell_type": "code",
   "execution_count": 30,
   "id": "b9ae522a",
   "metadata": {},
   "outputs": [
    {
     "data": {
      "text/plain": [
       "(10000,)"
      ]
     },
     "execution_count": 30,
     "metadata": {},
     "output_type": "execute_result"
    }
   ],
   "source": [
    "y_test.shape"
   ]
  },
  {
   "cell_type": "markdown",
   "id": "78814ec7",
   "metadata": {},
   "source": [
    "__The dataset we have is already splitted to contain all the values. But it is always a good practise to shuffle any new dataset.__\n",
    "Here Shuffling the training dataset itself. No use !"
   ]
  },
  {
   "cell_type": "code",
   "execution_count": 31,
   "id": "ee87e56b",
   "metadata": {},
   "outputs": [
    {
     "data": {
      "text/plain": [
       "array([[0., 0., 0., ..., 0., 0., 0.],\n",
       "       [0., 0., 0., ..., 0., 0., 0.],\n",
       "       [0., 0., 0., ..., 0., 0., 0.],\n",
       "       ...,\n",
       "       [0., 0., 0., ..., 0., 0., 0.],\n",
       "       [0., 0., 0., ..., 0., 0., 0.],\n",
       "       [0., 0., 0., ..., 0., 0., 0.]])"
      ]
     },
     "execution_count": 31,
     "metadata": {},
     "output_type": "execute_result"
    }
   ],
   "source": [
    "x_train # for comparing below"
   ]
  },
  {
   "cell_type": "code",
   "execution_count": 32,
   "id": "9127936e",
   "metadata": {},
   "outputs": [
    {
     "data": {
      "text/plain": [
       "array(['5', '0', '4', ..., '5', '6', '8'], dtype=object)"
      ]
     },
     "execution_count": 32,
     "metadata": {},
     "output_type": "execute_result"
    }
   ],
   "source": [
    "y_train  # for comparing below"
   ]
  },
  {
   "cell_type": "code",
   "execution_count": 33,
   "id": "b926917e",
   "metadata": {},
   "outputs": [],
   "source": [
    "# import numpy as np\n",
    "# shuffle_index= np.random.permutation(train_nums)\n",
    "# X_train,y_train = x_train[shuffle_index], y_train[shuffle_index]"
   ]
  },
  {
   "cell_type": "code",
   "execution_count": 34,
   "id": "14f1e424",
   "metadata": {},
   "outputs": [],
   "source": [
    "# shuffle_index.shape"
   ]
  },
  {
   "cell_type": "code",
   "execution_count": 35,
   "id": "55414cf3",
   "metadata": {},
   "outputs": [
    {
     "data": {
      "text/plain": [
       "(60000, 784)"
      ]
     },
     "execution_count": 35,
     "metadata": {},
     "output_type": "execute_result"
    }
   ],
   "source": [
    "x_train.shape"
   ]
  },
  {
   "cell_type": "code",
   "execution_count": 36,
   "id": "3cc71133",
   "metadata": {},
   "outputs": [
    {
     "data": {
      "text/plain": [
       "(60000,)"
      ]
     },
     "execution_count": 36,
     "metadata": {},
     "output_type": "execute_result"
    }
   ],
   "source": [
    "y_train.shape"
   ]
  },
  {
   "cell_type": "code",
   "execution_count": 37,
   "id": "609fb8b7",
   "metadata": {},
   "outputs": [
    {
     "data": {
      "text/plain": [
       "array([[0., 0., 0., ..., 0., 0., 0.],\n",
       "       [0., 0., 0., ..., 0., 0., 0.],\n",
       "       [0., 0., 0., ..., 0., 0., 0.],\n",
       "       ...,\n",
       "       [0., 0., 0., ..., 0., 0., 0.],\n",
       "       [0., 0., 0., ..., 0., 0., 0.],\n",
       "       [0., 0., 0., ..., 0., 0., 0.]])"
      ]
     },
     "execution_count": 37,
     "metadata": {},
     "output_type": "execute_result"
    }
   ],
   "source": [
    "x_train  # for comparing above. Changes made but cannot be observed."
   ]
  },
  {
   "cell_type": "code",
   "execution_count": 38,
   "id": "27390e91",
   "metadata": {},
   "outputs": [
    {
     "data": {
      "text/plain": [
       "array(['5', '0', '4', ..., '5', '6', '8'], dtype=object)"
      ]
     },
     "execution_count": 38,
     "metadata": {},
     "output_type": "execute_result"
    }
   ],
   "source": [
    "y_train  # for comparing above. Notice the shuffle made comparing with the y_train above."
   ]
  },
  {
   "cell_type": "markdown",
   "id": "ff104cb7",
   "metadata": {},
   "source": [
    "## Creating a number 2 detector."
   ]
  },
  {
   "cell_type": "markdown",
   "id": "8698baf3",
   "metadata": {},
   "source": [
    "Changing the labels only. Features are kept as it is. Also original labels are not changed. New variables assigned."
   ]
  },
  {
   "cell_type": "markdown",
   "id": "8e16625a",
   "metadata": {},
   "source": [
    "Observe the dtype of y_test and y_train above(labels only). dtype is object. That means that all the values of y_test,y_train are characters. We need them to convert into integers or else the Logistic regression model will throw an error. Shown below."
   ]
  },
  {
   "cell_type": "code",
   "execution_count": 39,
   "id": "e5d590bb",
   "metadata": {},
   "outputs": [],
   "source": [
    "import numpy as np\n",
    "y_train = y_train.astype(np.int8)\n",
    "y_test = y_test.astype(np.int8)"
   ]
  },
  {
   "cell_type": "raw",
   "id": "164ccdb9",
   "metadata": {},
   "source": [
    "# clf.fit(x_train,y_train_2) while predicting will return an error if labels are not converted to integers(as two classes True/False are required)- As '2' is in string form all the values assigned to y_train_2/y_test_2 will be False if  y_train/y_test is not converted to integer. \n",
    "\n",
    "ValueError: This solver needs samples of at least 2 classes in the data, but the data contains only one class: False"
   ]
  },
  {
   "cell_type": "code",
   "execution_count": 40,
   "id": "3b4a4ac5",
   "metadata": {},
   "outputs": [
    {
     "data": {
      "text/plain": [
       "array([5, 0, 4, ..., 5, 6, 8], dtype=int8)"
      ]
     },
     "execution_count": 40,
     "metadata": {},
     "output_type": "execute_result"
    }
   ],
   "source": [
    "y_train"
   ]
  },
  {
   "cell_type": "code",
   "execution_count": 41,
   "id": "375409b1",
   "metadata": {},
   "outputs": [
    {
     "data": {
      "text/plain": [
       "0"
      ]
     },
     "execution_count": 41,
     "metadata": {},
     "output_type": "execute_result"
    }
   ],
   "source": [
    "y_test.min()"
   ]
  },
  {
   "cell_type": "code",
   "execution_count": 42,
   "id": "64fb4c24",
   "metadata": {},
   "outputs": [
    {
     "data": {
      "text/plain": [
       "array([7, 2, 1, ..., 4, 5, 6], dtype=int8)"
      ]
     },
     "execution_count": 42,
     "metadata": {},
     "output_type": "execute_result"
    }
   ],
   "source": [
    "y_test"
   ]
  },
  {
   "cell_type": "code",
   "execution_count": 43,
   "id": "4e74daa7",
   "metadata": {},
   "outputs": [
    {
     "name": "stdout",
     "output_type": "stream",
     "text": [
      "5923\n",
      "6742\n",
      "5958\n",
      "6131\n",
      "5842\n",
      "5421\n",
      "5918\n",
      "6265\n",
      "5851\n",
      "5949\n",
      "[5923, 6742, 5958, 6131, 5842, 5421, 5918, 6265, 5851, 5949]\n",
      "60000\n"
     ]
    }
   ],
   "source": [
    "list_train = []\n",
    "for i in range (0,10):\n",
    "    y_train_2 = (y_train == i) \n",
    "    print (np.count_nonzero(y_train_2))\n",
    "    count_train = np.count_nonzero(y_train_2)\n",
    "    list_train.append(count_train)\n",
    "print (list_train)\n",
    "print (sum(list_train))"
   ]
  },
  {
   "cell_type": "code",
   "execution_count": 44,
   "id": "3182d2ea",
   "metadata": {},
   "outputs": [
    {
     "data": {
      "text/plain": [
       "0.09871666666666666"
      ]
     },
     "execution_count": 44,
     "metadata": {},
     "output_type": "execute_result"
    }
   ],
   "source": [
    "5923/60000 # checking distribution of datasets for train and test"
   ]
  },
  {
   "cell_type": "code",
   "execution_count": 45,
   "id": "bb5d690f",
   "metadata": {},
   "outputs": [
    {
     "data": {
      "text/plain": [
       "0.098"
      ]
     },
     "execution_count": 45,
     "metadata": {},
     "output_type": "execute_result"
    }
   ],
   "source": [
    "980/10000 # checking distribution of datasets for train and test"
   ]
  },
  {
   "cell_type": "code",
   "execution_count": 46,
   "id": "2b92833d",
   "metadata": {},
   "outputs": [
    {
     "data": {
      "text/plain": [
       "0.11236666666666667"
      ]
     },
     "execution_count": 46,
     "metadata": {},
     "output_type": "execute_result"
    }
   ],
   "source": [
    "6742/60000 # observe how train and test data is splitted in equal ratio for that particular number [0 to 9 ]"
   ]
  },
  {
   "cell_type": "code",
   "execution_count": 47,
   "id": "a173fc6f",
   "metadata": {},
   "outputs": [
    {
     "data": {
      "text/plain": [
       "0.1135"
      ]
     },
     "execution_count": 47,
     "metadata": {},
     "output_type": "execute_result"
    }
   ],
   "source": [
    "1135/10000 # observe how train and test data is splitted in equal ratio for that particular number [0 to 9 ]"
   ]
  },
  {
   "cell_type": "code",
   "execution_count": 48,
   "id": "7d871b23",
   "metadata": {},
   "outputs": [
    {
     "name": "stdout",
     "output_type": "stream",
     "text": [
      "980\n",
      "1135\n",
      "1032\n",
      "1010\n",
      "982\n",
      "892\n",
      "958\n",
      "1028\n",
      "974\n",
      "1009\n",
      "[980, 1135, 1032, 1010, 982, 892, 958, 1028, 974, 1009]\n",
      "10000\n"
     ]
    }
   ],
   "source": [
    "list_test = []\n",
    "for i in range (0,10):\n",
    "    y_test_2 = (y_test == i) \n",
    "    print (np.count_nonzero(y_test_2))\n",
    "    count_test = np.count_nonzero(y_test_2)\n",
    "    list_test.append(count_test)\n",
    "print (list_test)\n",
    "print (sum(list_test))"
   ]
  },
  {
   "cell_type": "code",
   "execution_count": 49,
   "id": "bf5439e1",
   "metadata": {},
   "outputs": [],
   "source": [
    "y_train_2 = (y_train == 2) \n",
    "y_test_2 = (y_test == 2) \n",
    "# y_train_2 = (y_train!=2)\n",
    "# y_test_2 = (y_test!=2)\n",
    "# Assigning variable to the arrays of y_train where it returns true/false for the input number provided.\n",
    "# Rememember if dtype of labels are not changed to integer, (y_train_2,y_test_2) will always return False value. "
   ]
  },
  {
   "cell_type": "raw",
   "id": "14f25b9e",
   "metadata": {},
   "source": [
    "__************************ E X T R A   B E G I N **************************__"
   ]
  },
  {
   "cell_type": "code",
   "execution_count": 50,
   "id": "0df761e5",
   "metadata": {},
   "outputs": [
    {
     "data": {
      "text/plain": [
       "(60000,)"
      ]
     },
     "execution_count": 50,
     "metadata": {},
     "output_type": "execute_result"
    }
   ],
   "source": [
    "y_train_2.shape"
   ]
  },
  {
   "cell_type": "code",
   "execution_count": 51,
   "id": "578ff9dc",
   "metadata": {},
   "outputs": [
    {
     "data": {
      "text/plain": [
       "(10000,)"
      ]
     },
     "execution_count": 51,
     "metadata": {},
     "output_type": "execute_result"
    }
   ],
   "source": [
    "y_test_2.shape"
   ]
  },
  {
   "cell_type": "code",
   "execution_count": 52,
   "id": "46b714fe",
   "metadata": {},
   "outputs": [
    {
     "data": {
      "text/plain": [
       "array([False, False, False, ..., False, False, False])"
      ]
     },
     "execution_count": 52,
     "metadata": {},
     "output_type": "execute_result"
    }
   ],
   "source": [
    "y_train_2"
   ]
  },
  {
   "cell_type": "code",
   "execution_count": 53,
   "id": "9f82c612",
   "metadata": {},
   "outputs": [
    {
     "data": {
      "text/plain": [
       "array([False,  True, False, ..., False, False, False])"
      ]
     },
     "execution_count": 53,
     "metadata": {},
     "output_type": "execute_result"
    }
   ],
   "source": [
    "y_test_2"
   ]
  },
  {
   "cell_type": "code",
   "execution_count": 54,
   "id": "b83ac8f2",
   "metadata": {},
   "outputs": [
    {
     "data": {
      "text/plain": [
       "5958"
      ]
     },
     "execution_count": 54,
     "metadata": {},
     "output_type": "execute_result"
    }
   ],
   "source": [
    "np.count_nonzero(y_train_2) # Counting the occurance of True in Train array Method 1\n",
    "#Method 1 to count particular element inside numpy array. This method returns non zero only."
   ]
  },
  {
   "cell_type": "code",
   "execution_count": 55,
   "id": "9152a5c3",
   "metadata": {},
   "outputs": [
    {
     "data": {
      "text/plain": [
       "5958"
      ]
     },
     "execution_count": 55,
     "metadata": {},
     "output_type": "execute_result"
    }
   ],
   "source": [
    "np.count_nonzero(y_train_2==True)  # Counting the occurance of True in Train array Method 2\n",
    "#Method 2 to count particular element inside numpy array. This method can count any elements occurance inside an array."
   ]
  },
  {
   "cell_type": "code",
   "execution_count": 56,
   "id": "de193c1d",
   "metadata": {},
   "outputs": [
    {
     "data": {
      "text/plain": [
       "1032"
      ]
     },
     "execution_count": 56,
     "metadata": {},
     "output_type": "execute_result"
    }
   ],
   "source": [
    "np.count_nonzero(y_test_2==True) # Counting the occurance of True in Test array Method 2"
   ]
  },
  {
   "cell_type": "code",
   "execution_count": 57,
   "id": "f3ec0b95",
   "metadata": {},
   "outputs": [
    {
     "data": {
      "text/plain": [
       "1032"
      ]
     },
     "execution_count": 57,
     "metadata": {},
     "output_type": "execute_result"
    }
   ],
   "source": [
    "np.count_nonzero(y_test==2) # Counting the occurance of 2 before converting to boolean. Same value obtained."
   ]
  },
  {
   "cell_type": "code",
   "execution_count": 58,
   "id": "cba70b8d",
   "metadata": {},
   "outputs": [
    {
     "data": {
      "text/plain": [
       "5958"
      ]
     },
     "execution_count": 58,
     "metadata": {},
     "output_type": "execute_result"
    }
   ],
   "source": [
    "np.count_nonzero(y_train==2)"
   ]
  },
  {
   "cell_type": "code",
   "execution_count": 59,
   "id": "11a69ae8",
   "metadata": {},
   "outputs": [
    {
     "data": {
      "text/plain": [
       "<matplotlib.image.AxesImage at 0x6158b02bb0>"
      ]
     },
     "execution_count": 59,
     "metadata": {},
     "output_type": "execute_result"
    },
    {
     "data": {
      "image/png": "[encoded data removed]",
      "text/plain": [
       "<Figure size 432x288 with 1 Axes>"
      ]
     },
     "metadata": {
      "needs_background": "light"
     },
     "output_type": "display_data"
    }
   ],
   "source": [
    "plt.imshow(x_train[36001].reshape(28,28))"
   ]
  },
  {
   "cell_type": "raw",
   "id": "076baad3",
   "metadata": {},
   "source": [
    "__************************ E X T R A    E N D *************************__"
   ]
  },
  {
   "cell_type": "markdown",
   "id": "7ff4730d",
   "metadata": {},
   "source": [
    "## Applying Model and Predicting"
   ]
  },
  {
   "cell_type": "code",
   "execution_count": 60,
   "id": "a96f586c",
   "metadata": {},
   "outputs": [],
   "source": [
    "from sklearn.linear_model import LogisticRegression\n",
    "from sklearn.linear_model import SGDClassifier"
   ]
  },
  {
   "cell_type": "code",
   "execution_count": 61,
   "id": "55bcdc1c",
   "metadata": {},
   "outputs": [],
   "source": [
    "# clf = LogisticRegression() # This can be used but will throw convergence warning\n",
    "# clf = LogisticRegression(tol = 0.1,solver = 'saga') # doesn't throw any error. Faster for big datasets.\n",
    "clf = LogisticRegression(tol = 0.1,solver = 'liblinear') # doesn't throw any error\n",
    "# clf = SGDClassifier(tol = 0.1) \n",
    "# clf = SGDClassifier(tol = 0.1) "
   ]
  },
  {
   "cell_type": "markdown",
   "id": "65ce2333",
   "metadata": {},
   "source": [
    "Takes too much time to fit the model if tol = 0.1 not provided\n",
    "\n",
    "multiple solvers are available: “liblinear”, “newton-cg”, “lbfgs”, “sag” and “saga” - More about them on https://scikit-learn.org/stable/modules/linear_model.html#logistic-regression"
   ]
  },
  {
   "cell_type": "code",
   "execution_count": 62,
   "id": "f9111a81",
   "metadata": {},
   "outputs": [
    {
     "data": {
      "text/plain": [
       "LogisticRegression(solver='liblinear', tol=0.1)"
      ]
     },
     "execution_count": 62,
     "metadata": {},
     "output_type": "execute_result"
    }
   ],
   "source": [
    "clf.fit(x_train , y_train_2)"
   ]
  },
  {
   "cell_type": "code",
   "execution_count": 63,
   "id": "3bacf46a",
   "metadata": {},
   "outputs": [
    {
     "data": {
      "text/plain": [
       "True"
      ]
     },
     "execution_count": 63,
     "metadata": {},
     "output_type": "execute_result"
    }
   ],
   "source": [
    "y_train_2[36001]"
   ]
  },
  {
   "cell_type": "code",
   "execution_count": 64,
   "id": "f533cbff",
   "metadata": {},
   "outputs": [
    {
     "data": {
      "text/plain": [
       "2"
      ]
     },
     "execution_count": 64,
     "metadata": {},
     "output_type": "execute_result"
    }
   ],
   "source": [
    "y_train[36001]"
   ]
  },
  {
   "cell_type": "code",
   "execution_count": 65,
   "id": "242da29f",
   "metadata": {},
   "outputs": [
    {
     "data": {
      "text/plain": [
       "array([ True])"
      ]
     },
     "execution_count": 65,
     "metadata": {},
     "output_type": "execute_result"
    }
   ],
   "source": [
    "clf.predict([some_digit])"
   ]
  },
  {
   "cell_type": "code",
   "execution_count": 66,
   "id": "7a677a54",
   "metadata": {},
   "outputs": [],
   "source": [
    "from sklearn.model_selection import cross_val_score\n",
    "a=cross_val_score(clf,x_train,y_train_2, cv= 3, scoring='accuracy')"
   ]
  },
  {
   "cell_type": "code",
   "execution_count": 67,
   "id": "f5a9a45f",
   "metadata": {},
   "outputs": [
    {
     "data": {
      "text/plain": [
       "array([0.9759 , 0.9773 , 0.97985])"
      ]
     },
     "execution_count": 67,
     "metadata": {},
     "output_type": "execute_result"
    }
   ],
   "source": [
    "a"
   ]
  },
  {
   "cell_type": "code",
   "execution_count": 68,
   "id": "c57b2379",
   "metadata": {},
   "outputs": [
    {
     "data": {
      "text/plain": [
       "0.9776833333333332"
      ]
     },
     "execution_count": 68,
     "metadata": {},
     "output_type": "execute_result"
    }
   ],
   "source": [
    "a.mean()"
   ]
  },
  {
   "cell_type": "code",
   "execution_count": 69,
   "id": "2402dfe0",
   "metadata": {},
   "outputs": [
    {
     "data": {
      "text/plain": [
       "17.32124874118832"
      ]
     },
     "execution_count": 69,
     "metadata": {},
     "output_type": "execute_result"
    }
   ],
   "source": [
    "(1032/5958)*100"
   ]
  },
  {
   "cell_type": "code",
   "execution_count": 70,
   "id": "5c99f292",
   "metadata": {},
   "outputs": [
    {
     "data": {
      "text/plain": [
       "82.68"
      ]
     },
     "execution_count": 70,
     "metadata": {},
     "output_type": "execute_result"
    }
   ],
   "source": [
    "100-17.32"
   ]
  },
  {
   "cell_type": "code",
   "execution_count": 71,
   "id": "773884f1",
   "metadata": {},
   "outputs": [
    {
     "data": {
      "text/plain": [
       "5958"
      ]
     },
     "execution_count": 71,
     "metadata": {},
     "output_type": "execute_result"
    }
   ],
   "source": [
    "np.count_nonzero(y_train==2)"
   ]
  },
  {
   "cell_type": "code",
   "execution_count": 72,
   "id": "a48a648e",
   "metadata": {},
   "outputs": [
    {
     "data": {
      "text/plain": [
       "90.07"
      ]
     },
     "execution_count": 72,
     "metadata": {},
     "output_type": "execute_result"
    }
   ],
   "source": [
    "100-((5958/60000)*100)"
   ]
  },
  {
   "cell_type": "markdown",
   "id": "b5dbdea0",
   "metadata": {},
   "source": [
    "Why accuracy metric is not good? https://tryolabs.com/blog/2013/03/25/why-accuracy-alone-bad-measure-classification-tasks-and-what-we-can-do-about-it\n",
    "The best way to evaluate our classifier model is by using confusion metrics."
   ]
  },
  {
   "cell_type": "code",
   "execution_count": 73,
   "id": "c70f8e99",
   "metadata": {},
   "outputs": [],
   "source": [
    "from sklearn.model_selection import cross_val_predict\n",
    "y_train_pred = cross_val_predict(clf,x_train,y_train_2, cv=3)"
   ]
  },
  {
   "cell_type": "code",
   "execution_count": 74,
   "id": "8494137b",
   "metadata": {},
   "outputs": [
    {
     "data": {
      "text/plain": [
       "(60000,)"
      ]
     },
     "execution_count": 74,
     "metadata": {},
     "output_type": "execute_result"
    }
   ],
   "source": [
    "y_train_pred.shape\n",
    "# y_train_pred"
   ]
  },
  {
   "cell_type": "code",
   "execution_count": 75,
   "id": "cba33af7",
   "metadata": {},
   "outputs": [
    {
     "data": {
      "text/plain": [
       "5425"
      ]
     },
     "execution_count": 75,
     "metadata": {},
     "output_type": "execute_result"
    }
   ],
   "source": [
    "np.count_nonzero(y_train_pred)"
   ]
  },
  {
   "cell_type": "code",
   "execution_count": 76,
   "id": "d8b8b56f",
   "metadata": {},
   "outputs": [
    {
     "data": {
      "text/plain": [
       "5958"
      ]
     },
     "execution_count": 76,
     "metadata": {},
     "output_type": "execute_result"
    }
   ],
   "source": [
    "np.count_nonzero(y_train_2)"
   ]
  },
  {
   "cell_type": "markdown",
   "id": "15999c63",
   "metadata": {},
   "source": [
    "# Calculating Confusion metrics \n",
    "Think about business importance. If we are developing a system that detects fraud in bank transactions, it is desirable that we have a very high recall, ie. most of the fraudulent transactions are identified, probably at loss of precision, since it is very important that all fraud is identified or at least suspicions are raised. In turn if we have a source of data like Twitter and we are interested in finding out when a tweet expresses a negative sentiment about a certain politician, we can probably raise precision (to gain certainty) at the expense of losing recall, since we don't lose much in this case and the source of data is so massive anyway."
   ]
  },
  {
   "cell_type": "raw",
   "id": "a34d8e7f",
   "metadata": {},
   "source": [
    "Accuracy = (TP +TN)/(TP+TN+FP+FN)"
   ]
  },
  {
   "cell_type": "raw",
   "id": "b743c930",
   "metadata": {},
   "source": [
    "Precision = (TP/TP+FP)"
   ]
  },
  {
   "cell_type": "raw",
   "id": "2297c9e7",
   "metadata": {},
   "source": [
    "Recall= (TP /TP+FN)"
   ]
  },
  {
   "cell_type": "raw",
   "id": "a64894f6",
   "metadata": {},
   "source": [
    "F1 Score = (2 x Precision x Recall)/ (Precision + Recall)\n",
    "# Formula is based on Harmonic Mean "
   ]
  },
  {
   "cell_type": "code",
   "execution_count": 77,
   "id": "6f70295c",
   "metadata": {},
   "outputs": [],
   "source": [
    "from sklearn.metrics import confusion_matrix"
   ]
  },
  {
   "cell_type": "code",
   "execution_count": 78,
   "id": "dd6f4b11",
   "metadata": {},
   "outputs": [
    {
     "data": {
      "text/plain": [
       "array([[53639,   403],\n",
       "       [  936,  5022]], dtype=int64)"
      ]
     },
     "execution_count": 78,
     "metadata": {},
     "output_type": "execute_result"
    }
   ],
   "source": [
    "confusion_matrix(y_train_2,y_train_pred)"
   ]
  },
  {
   "cell_type": "raw",
   "id": "bd5c8be6",
   "metadata": {},
   "source": [
    "                Pred Neg    Pred Pos\n",
    "Actual Negative [  TN         FP  ]\n",
    "Actual Positive [  FN         TP  ]"
   ]
  },
  {
   "cell_type": "code",
   "execution_count": 79,
   "id": "8c34089c",
   "metadata": {},
   "outputs": [
    {
     "data": {
      "text/plain": [
       "array([[54042,     0],\n",
       "       [    0,  5958]], dtype=int64)"
      ]
     },
     "execution_count": 79,
     "metadata": {},
     "output_type": "execute_result"
    }
   ],
   "source": [
    "confusion_matrix(y_train_2,y_train_2) # This is perfectly trained dataset. Observe the diagonal matrix."
   ]
  },
  {
   "cell_type": "code",
   "execution_count": 80,
   "id": "41a2d9f0",
   "metadata": {},
   "outputs": [
    {
     "data": {
      "text/plain": [
       "0.9776833333333333"
      ]
     },
     "execution_count": 80,
     "metadata": {},
     "output_type": "execute_result"
    }
   ],
   "source": [
    "from sklearn.metrics import accuracy_score\n",
    "accuracy_score(y_train_2, y_train_pred)"
   ]
  },
  {
   "cell_type": "code",
   "execution_count": 81,
   "id": "e7d72947",
   "metadata": {},
   "outputs": [
    {
     "data": {
      "text/plain": [
       "0.9776833333333333"
      ]
     },
     "execution_count": 81,
     "metadata": {},
     "output_type": "execute_result"
    }
   ],
   "source": [
    "(53639+5022)/60000 #Verifying accuracy score using formula Accuracy = (TP +TN)/ (TP+TN+FP+FN)"
   ]
  },
  {
   "cell_type": "code",
   "execution_count": 82,
   "id": "3498a305",
   "metadata": {},
   "outputs": [],
   "source": [
    "from sklearn.metrics import recall_score, precision_score"
   ]
  },
  {
   "cell_type": "code",
   "execution_count": 83,
   "id": "fb1f1414",
   "metadata": {},
   "outputs": [
    {
     "data": {
      "text/plain": [
       "0.9257142857142857"
      ]
     },
     "execution_count": 83,
     "metadata": {},
     "output_type": "execute_result"
    }
   ],
   "source": [
    "precision_score(y_train_2,y_train_pred) #Precision Score"
   ]
  },
  {
   "cell_type": "code",
   "execution_count": 84,
   "id": "15d3b586",
   "metadata": {},
   "outputs": [
    {
     "data": {
      "text/plain": [
       "0.9257142857142857"
      ]
     },
     "execution_count": 84,
     "metadata": {},
     "output_type": "execute_result"
    }
   ],
   "source": [
    "5022/(5022 +403 ) # Precision = (TP/TP+FP)"
   ]
  },
  {
   "cell_type": "code",
   "execution_count": 85,
   "id": "1977c59d",
   "metadata": {},
   "outputs": [
    {
     "data": {
      "text/plain": [
       "0.8429003021148036"
      ]
     },
     "execution_count": 85,
     "metadata": {},
     "output_type": "execute_result"
    }
   ],
   "source": [
    "recall_score(y_train_2,y_train_pred) #recall score"
   ]
  },
  {
   "cell_type": "code",
   "execution_count": 86,
   "id": "6e2e8172",
   "metadata": {},
   "outputs": [
    {
     "data": {
      "text/plain": [
       "0.8429003021148036"
      ]
     },
     "execution_count": 86,
     "metadata": {},
     "output_type": "execute_result"
    }
   ],
   "source": [
    "5022/(5022 + 936)# Recall= (TP /TP+FN)"
   ]
  },
  {
   "cell_type": "markdown",
   "id": "4abd3e40",
   "metadata": {},
   "source": [
    "# F1 Score"
   ]
  },
  {
   "cell_type": "code",
   "execution_count": 87,
   "id": "d83e5e40",
   "metadata": {},
   "outputs": [],
   "source": [
    "from sklearn.metrics import f1_score"
   ]
  },
  {
   "cell_type": "code",
   "execution_count": 88,
   "id": "cd3d20c1",
   "metadata": {},
   "outputs": [
    {
     "data": {
      "text/plain": [
       "0.8823684441711324"
      ]
     },
     "execution_count": 88,
     "metadata": {},
     "output_type": "execute_result"
    }
   ],
   "source": [
    "f1_score(y_train_2,y_train_pred)"
   ]
  },
  {
   "cell_type": "code",
   "execution_count": 89,
   "id": "c956c275",
   "metadata": {},
   "outputs": [
    {
     "data": {
      "text/plain": [
       "0.8823684441711324"
      ]
     },
     "execution_count": 89,
     "metadata": {},
     "output_type": "execute_result"
    }
   ],
   "source": [
    "(2*0.9257142857142857 * 0.8429003021148036)/(0.9257142857142857+0.8429003021148036 ) #F1 Score = (2 x Precision x Recall)/ (Precision + Recall)"
   ]
  },
  {
   "cell_type": "markdown",
   "id": "dd358d25",
   "metadata": {},
   "source": [
    "## Precision Recall Curve "
   ]
  },
  {
   "cell_type": "code",
   "execution_count": 90,
   "id": "fb181410",
   "metadata": {},
   "outputs": [],
   "source": [
    "from sklearn.metrics import precision_recall_curve"
   ]
  },
  {
   "cell_type": "code",
   "execution_count": 91,
   "id": "5203dd0b",
   "metadata": {},
   "outputs": [],
   "source": [
    "y_scores = cross_val_predict(clf,x_train,y_train_2, cv=3,method= 'decision_function')"
   ]
  },
  {
   "cell_type": "code",
   "execution_count": 92,
   "id": "16f840d7",
   "metadata": {},
   "outputs": [
    {
     "data": {
      "text/plain": [
       "array([ -6.72747318,  -7.17346061,  -3.13561714, ..., -11.6590677 ,\n",
       "        -5.03462797,  -4.50524051])"
      ]
     },
     "execution_count": 92,
     "metadata": {},
     "output_type": "execute_result"
    }
   ],
   "source": [
    "y_scores"
   ]
  },
  {
   "cell_type": "code",
   "execution_count": 93,
   "id": "1ddc2b60",
   "metadata": {},
   "outputs": [],
   "source": [
    "precisions, recalls, thresholds = precision_recall_curve(y_train_2,y_scores)"
   ]
  },
  {
   "cell_type": "code",
   "execution_count": 94,
   "id": "22ef12ef",
   "metadata": {},
   "outputs": [
    {
     "data": {
      "text/plain": [
       "(59026,)"
      ]
     },
     "execution_count": 94,
     "metadata": {},
     "output_type": "execute_result"
    }
   ],
   "source": [
    "precisions.shape"
   ]
  },
  {
   "cell_type": "code",
   "execution_count": 95,
   "id": "b2c63798",
   "metadata": {},
   "outputs": [
    {
     "data": {
      "text/plain": [
       "(59026,)"
      ]
     },
     "execution_count": 95,
     "metadata": {},
     "output_type": "execute_result"
    }
   ],
   "source": [
    "recalls.shape"
   ]
  },
  {
   "cell_type": "code",
   "execution_count": 96,
   "id": "47346b22",
   "metadata": {},
   "outputs": [
    {
     "data": {
      "text/plain": [
       "(59025,)"
      ]
     },
     "execution_count": 96,
     "metadata": {},
     "output_type": "execute_result"
    }
   ],
   "source": [
    "thresholds.shape"
   ]
  },
  {
   "cell_type": "markdown",
   "id": "8a4ab01d",
   "metadata": {},
   "source": [
    "## Plotting the precision recall curve"
   ]
  },
  {
   "cell_type": "code",
   "execution_count": 97,
   "id": "7e3540ca",
   "metadata": {},
   "outputs": [
    {
     "data": {
      "image/png": "[encoded data removed]",
      "text/plain": [
       "<Figure size 432x288 with 1 Axes>"
      ]
     },
     "metadata": {
      "needs_background": "light"
     },
     "output_type": "display_data"
    }
   ],
   "source": [
    "plt.plot (thresholds,precisions[:-1],\"b--\", label= \"precision\")\n",
    "plt.plot (thresholds,recalls[:-1],\"g-\", label= \"recall\") \n",
    "# slicing done as last precision and recall values were not equal in shape to threshold. Threshold was 1 row more.\n",
    "# The last precision and recall values are 1. and 0. respectively and do not have a corresponding threshold. This ensures that the graph starts on the y axis.\n",
    "# check link - https://scikit-learn.org/stable/modules/generated/sklearn.metrics.precision_recall_curve.html\n",
    "plt.xlabel(\"Thresholds\")\n",
    "plt.legend(loc=\"upper left\")\n",
    "plt.ylim(0,1)\n",
    "plt.show()"
   ]
  },
  {
   "cell_type": "code",
   "execution_count": null,
   "id": "0b041c18",
   "metadata": {},
   "outputs": [],
   "source": []
  }
 ],
 "metadata": {
  "kernelspec": {
   "display_name": "Python 3 (ipykernel)",
   "language": "python",
   "name": "python3"
  },
  "language_info": {
   "codemirror_mode": {
    "name": "ipython",
    "version": 3
   },
   "file_extension": ".py",
   "mimetype": "text/x-python",
   "name": "python",
   "nbconvert_exporter": "python",
   "pygments_lexer": "ipython3",
   "version": "3.9.12"
  }
 },
 "nbformat": 4,
 "nbformat_minor": 5
}
